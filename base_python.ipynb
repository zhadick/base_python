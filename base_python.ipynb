{
  "metadata": {
    "language_info": {
      "codemirror_mode": {
        "name": "python",
        "version": 3
      },
      "file_extension": ".py",
      "mimetype": "text/x-python",
      "name": "python",
      "nbconvert_exporter": "python",
      "pygments_lexer": "ipython3",
      "version": "3.8"
    },
    "kernelspec": {
      "name": "python",
      "display_name": "Python (Pyodide)",
      "language": "python"
    }
  },
  "nbformat_minor": 4,
  "nbformat": 4,
  "cells": [
    {
      "cell_type": "raw",
      "source": "Завдання 1",
      "metadata": {}
    },
    {
      "cell_type": "markdown",
      "source": "Завдання 1\nНаписати функцію з одним аргументом, яка перевіряє чи є аргумент числом. Якщо так, то повертає чи є це цисло парним чи не парним. Якщо аргумент не число - повертає пусту строку.",
      "metadata": {}
    },
    {
      "cell_type": "code",
      "source": "import sys\n\ndef check():\n    num_str = input(\"Введіть число: \")\n    try:\n        # перетворимо введений рядок на число\n        num = float(num_str)\n        # перевіряємо, чи є num числом\n        if isinstance(num, (int, float)):\n            # якщо це число, то функція перевіряє, чи є це число парним. Якщо число парне, то функція повертає рядок \"Це парне число\"\n            if num % 2 == 0:\n                return \"Це парне число\"\n            # інакше вона повертає рядок \"Це непарне число\"\n            else:\n                return \"Це непарне число\"\n    except ValueError:\n        # якщо num не є числом, то функція повертає порожній рядок \"\".\n        print(\"\")\n        # перериває виконання програми\n        sys.exit()\n\n# викликаємо функцію\nprint(check())\n",
      "metadata": {},
      "execution_count": null,
      "outputs": []
    },
    {
      "cell_type": "raw",
      "source": "Завдання 2",
      "metadata": {}
    },
    {
      "cell_type": "markdown",
      "source": "Завдання 2\nНаписати функцію, яка починає перебирати числа від 1 до нескінченності і перевіряє чи є число простим (просте число - те яке ділиться лише на 1 чи само на себе). Якщо просте число знайдене - воно додається до списку. Після пʼятого знайденого простого числа функція повинна повернути суму всіх пʼяти простих чисел у списку.",
      "metadata": {}
    },
    {
      "cell_type": "code",
      "source": "import sys\n\n# визначаємо функцію для підрахунку суми перших n простих чисел\ndef sum_of_first_n_primes(n):\n    # створюємо порожній список primes, який буде містити перші пʼять простих чисел\n    primes = []\n    num = 2\n    \n    while len(primes) < n:\n        is_prime = True\n        # перевіряємо, чи є число num простим\n        for i in range(2, num):\n            if num % i == 0:\n                is_prime = False\n                break\n        if is_prime:\n            # якщо число num просте, то додається до списку primes\n            primes.append(num)\n        # num збільшується на 1 на кожній ітерації циклу while\n        num += 1\n        # цикл while триває доки кількість простих чисел у списку primes не дорівнюватиме n.\n    return sum(primes)\n\n# Запитуємо у користувача кількість простих чисел\ntry:\n    n = int(input(\"Введіть кількість простих чисел: \"))\nexcept ValueError:\n    print(\"Помилка: введено неправильне значення\")\n    sys.exit()\n\nresult = sum_of_first_n_primes(n)\nprint(f\"Сума перших {n} простих чисел дорівнює {result}\")",
      "metadata": {},
      "execution_count": null,
      "outputs": []
    },
    {
      "cell_type": "raw",
      "source": "Завдання 3",
      "metadata": {}
    },
    {
      "cell_type": "markdown",
      "source": "Завдання 3\nНаписати функцію з одним аргументом n, що є числом. \nФункція повинна повернути суму наступного ряду з n чисел 1 + 11 + 111 + 1111 + ...., \nде кожний елемент - число з постійно зростаючою кількістю одиниць.\n\nНаприклад:\nВи передаєте в функцію фргумент 5.\nФункція рахує сумму для ряду виду: 1 + 11 + 111 + 1111 + 11111.\nВ даному прикладі вона повинна повернути число 12345",
      "metadata": {}
    },
    {
      "cell_type": "code",
      "source": "import sys\ndef sum_of_series():\n    # функція вимагає кількість елементів послідовності, обчислює суму чисел 1, 11, 111, ...\n    n = int(input(\"Введіть кількість елементів: \"))\n    num = 1\n    result = 0\n    for i in range(n):\n        # кожне наступне число виходить приписуванням одиниці на кінець попереднього числа\n        result += num\n        num = num * 10 + 1\n    # та повертає отриману суму\n    return result\n\n\n# викликаємо функцію\nprint(sum_of_series())\n\n# під час запуску буде запропоновано ввести кількість елементів, після чого програма обчислить та виведе на екран суму чисел.\n",
      "metadata": {},
      "execution_count": null,
      "outputs": []
    }
  ]
}